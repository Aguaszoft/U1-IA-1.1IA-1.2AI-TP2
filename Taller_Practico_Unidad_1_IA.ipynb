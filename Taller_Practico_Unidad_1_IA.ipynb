{
 "cells": [
  {
   "cell_type": "markdown",
   "id": "c4da1955",
   "metadata": {},
   "source": [
    "\n",
    "# Taller Práctico - Unidad 1: Fundamentación de la Inteligencia Artificial\n",
    "\n",
    "**Tema:** Ejemplos en Python con Perceptrón y Agentes Inteligentes  \n",
    "**Profesor:** PhD (c). Luis Fernando Aguas Bucheli  \n",
    "**Ubicación:** Guayaquil - Ecuador\n",
    "\n",
    "Este notebook cubre ejemplos prácticos de un **perceptrón simple** y **agentes inteligentes** en el contexto de predicciones y simulaciones.\n",
    "Los ejemplos están orientados a:\n",
    "\n",
    "1. La clasificación de la selección de Ecuador para el mundial.\n",
    "2. Predicciones de cuándo un equipo ecuatoriano ganará la Copa Libertadores.\n",
    "3. Simulaciones de la clasificación de Ecuador en diversas etapas del mundial.\n"
   ]
  },
  {
   "cell_type": "markdown",
   "id": "a94e7f35",
   "metadata": {},
   "source": [
    "## Ejemplo 1: Clasificación de la Selección de Ecuador al Mundial usando un Perceptrón Simple"
   ]
  },
  {
   "cell_type": "code",
   "execution_count": null,
   "id": "a4f6a144",
   "metadata": {},
   "outputs": [],
   "source": [
    "\n",
    "import numpy as np\n",
    "import matplotlib.pyplot as plt\n",
    "\n",
    "# Función de activación (escalón unitario)\n",
    "def funcion_escalon(z):\n",
    "    return np.where(z >= 0, 1, 0)\n",
    "\n",
    "# Perceptrón: función que combina entradas y pesos\n",
    "def perceptron(X, W, b):\n",
    "    z = np.dot(W, X) + b\n",
    "    return funcion_escalon(z)\n",
    "\n",
    "# Variables de entrada para clasificación al mundial (ejemplo: [puntos, victorias, gol diferencia])\n",
    "X = np.array([20, 7, 10])\n",
    "W = np.array([0.5, 1.0, 1.2])  # Pesos ajustados para ejemplo de clasificación\n",
    "b = -15  # Sesgo\n",
    "\n",
    "# Salida del perceptrón\n",
    "salida = perceptron(X, W, b)\n",
    "print(f\"Clasificación al Mundial (1 = Sí, 0 = No): {salida}\")\n"
   ]
  },
  {
   "cell_type": "markdown",
   "id": "40a73430",
   "metadata": {},
   "source": [
    "## Ejemplo 2: Predicción de Campeón en Copa Libertadores usando un Perceptrón Simple"
   ]
  },
  {
   "cell_type": "code",
   "execution_count": null,
   "id": "3859cdd8",
   "metadata": {},
   "outputs": [],
   "source": [
    "\n",
    "# Variables de entrada para predicción en Libertadores (ejemplo: [experiencia, rendimiento último año, presupuesto])\n",
    "X = np.array([5, 8, 12])\n",
    "W = np.array([0.6, 1.0, 1.5])  # Pesos ajustados para ejemplo de victoria\n",
    "b = -20  # Sesgo\n",
    "\n",
    "# Salida del perceptrón\n",
    "salida = perceptron(X, W, b)\n",
    "print(f\"Predicción de Campeón en Copa Libertadores (1 = Sí, 0 = No): {salida}\")\n"
   ]
  },
  {
   "cell_type": "markdown",
   "id": "4ef9d607",
   "metadata": {},
   "source": [
    "## Ejemplo 3: Simulación de Agente Inteligente en un Entorno 2D"
   ]
  },
  {
   "cell_type": "code",
   "execution_count": null,
   "id": "3009b847",
   "metadata": {},
   "outputs": [],
   "source": [
    "\n",
    "import matplotlib.pyplot as plt\n",
    "\n",
    "class AgenteSimple:\n",
    "    def __init__(self):\n",
    "        self.posicion = [0, 0]  # Posición inicial del agente\n",
    "    \n",
    "    def percibir_y_actuar(self, entorno):\n",
    "        # El agente se mueve a la derecha si no hay obstáculo\n",
    "        if self.posicion[1] + 1 < len(entorno[0]) and entorno[self.posicion[0]][self.posicion[1] + 1] != 1:  # 1 = obstáculo\n",
    "            self.posicion[1] += 1  # Mover a la derecha\n",
    "\n",
    "# Entorno 2D: 0 = espacio libre, 1 = obstáculo\n",
    "entorno = [\n",
    "    [0, 0, 0, 0],\n",
    "    [0, 1, 0, 1],\n",
    "    [0, 0, 0, 0]\n",
    "]\n",
    "\n",
    "# Crear el agente\n",
    "agente = AgenteSimple()\n",
    "\n",
    "# Simular y visualizar el movimiento del agente\n",
    "for paso in range(4):\n",
    "    plt.imshow(entorno, cmap='binary', origin='upper')\n",
    "    plt.scatter(agente.posicion[1], agente.posicion[0], color='red', s=100, label='Agente')\n",
    "    plt.title(f\"Paso {paso+1}: Posición del agente\")\n",
    "    plt.legend()\n",
    "    plt.show()\n",
    "\n",
    "    # El agente percibe y actúa en el entorno\n",
    "    agente.percibir_y_actuar(entorno)\n"
   ]
  }
 ],
 "metadata": {},
 "nbformat": 4,
 "nbformat_minor": 5
}
